{
 "cells": [
  {
   "cell_type": "markdown",
   "metadata": {},
   "source": [
    "### standard libraries\n",
    "- file i/o\n",
    "- regular expression\n",
    "- datetime\n",
    "- math(numerical and mathematical)"
   ]
  },
  {
   "cell_type": "markdown",
   "metadata": {},
   "source": [
    "### file handling in python\n",
    "- file:-document containg information resides pon permanent storage\n",
    "- different types of files:- txt,doc,pdf,csv and etc \n",
    "- input -- keyboard\n",
    "- output -- file\n",
    "### modes of the file  i/o\n",
    "- 'w'-- this mode is used to file writing \n",
    "\n",
    "   -- if the file is not present it creates the file and write to me data to it\n",
    "   -- if the file is already present then it will rewrite the previous content\n",
    "   \n",
    " "
   ]
  },
  {
   "cell_type": "code",
   "execution_count": 1,
   "metadata": {},
   "outputs": [
    {
     "name": "stdout",
     "output_type": "stream",
     "text": [
      "file is created and data has writter\n"
     ]
    }
   ],
   "source": [
    "# function to create a file and write to the file\n",
    "def createfile(filename):\n",
    "    f=open(filename,'w')\n",
    "    for i in range(10):\n",
    "        f.write('this is %d line'%i)\n",
    "    print(\"file is created and data has writter\")\n",
    "    return\n",
    "createfile('file1.txt')"
   ]
  },
  {
   "cell_type": "code",
   "execution_count": 3,
   "metadata": {},
   "outputs": [
    {
     "name": "stdout",
     "output_type": "stream",
     "text": [
      "testing...\n",
      "\n",
      "file is created and data has writter\n"
     ]
    }
   ],
   "source": [
    "def createfile(filename):\n",
    "    f=open(filename,'w') \n",
    "    print('testing...\\n')\n",
    "    print(\"file is created and data has writter\")\n",
    "    return\n",
    "createfile('file1.txt')"
   ]
  },
  {
   "cell_type": "code",
   "execution_count": 5,
   "metadata": {},
   "outputs": [
    {
     "name": "stdout",
     "output_type": "stream",
     "text": [
      " Volume in drive C has no label.\n",
      " Volume Serial Number is EE3A-696C\n",
      "\n",
      " Directory of C:\\Users\\exam\n",
      "\n",
      "11-07-2019  09:58    <DIR>          .\n",
      "11-07-2019  09:58    <DIR>          ..\n",
      "21-06-2019  13:04    <DIR>          .anaconda\n",
      "19-06-2019  16:36               575 .bash_history\n",
      "21-06-2019  14:11    <DIR>          .conda\n",
      "21-06-2019  13:05                43 .condarc\n",
      "29-06-2019  10:53    <DIR>          .idlerc\n",
      "11-07-2019  09:12    <DIR>          .ipynb_checkpoints\n",
      "21-06-2019  13:07    <DIR>          .ipython\n",
      "26-06-2019  14:54    <DIR>          .jupyter\n",
      "28-06-2019  15:49    <DIR>          .matplotlib\n",
      "19-06-2019  13:00                14 .minttyrc\n",
      "01-03-2019  11:58    <DIR>          .oracle_jre_usage\n",
      "24-11-2016  12:31    <DIR>          Contacts\n",
      "08-07-2019  16:48    <DIR>          Desktop\n",
      "05-07-2019  10:10    <DIR>          Documents\n",
      "03-07-2019  14:49    <DIR>          Downloads\n",
      "24-11-2016  12:31    <DIR>          Favorites\n",
      "11-07-2019  09:52                 0 file1.txt\n",
      "19-06-2019  15:07    <DIR>          Gitam-june-2019\n",
      "09-07-2019  16:39    <DIR>          Links\n",
      "27-06-2019  12:09               180 maneesh.txt\n",
      "24-11-2016  12:31    <DIR>          Music\n",
      "24-11-2016  12:31    <DIR>          Pictures\n",
      "24-11-2016  12:31    <DIR>          Saved Games\n",
      "24-11-2016  12:31    <DIR>          Searches\n",
      "21-06-2019  13:09               798 Untitled.ipynb\n",
      "21-06-2019  16:52             2,292 Untitled1.ipynb\n",
      "28-06-2019  15:50             8,700 Untitled10.ipynb\n",
      "29-06-2019  10:25             5,157 Untitled11.ipynb\n",
      "08-07-2019  09:28             1,022 Untitled12.ipynb\n",
      "08-07-2019  16:45            11,441 Untitled13.ipynb\n",
      "09-07-2019  17:19            13,536 Untitled14.ipynb\n",
      "10-07-2019  17:09            25,547 Untitled15.ipynb\n",
      "11-07-2019  09:58             2,567 Untitled16.ipynb\n",
      "22-06-2019  16:06             7,551 Untitled2.ipynb\n",
      "22-06-2019  12:16               926 Untitled3.ipynb\n",
      "22-06-2019  12:12               796 Untitled4.ipynb\n",
      "24-06-2019  17:28            15,140 Untitled5.ipynb\n",
      "25-06-2019  14:29             3,297 Untitled6.ipynb\n",
      "25-06-2019  16:01             6,677 Untitled7.ipynb\n",
      "26-06-2019  16:43            11,754 Untitled8.ipynb\n",
      "27-06-2019  16:04             6,434 Untitled9.ipynb\n",
      "24-11-2016  12:31    <DIR>          Videos\n",
      "              22 File(s)        124,447 bytes\n",
      "              22 Dir(s)  73,184,342,016 bytes free\n"
     ]
    }
   ],
   "source": [
    "ls"
   ]
  },
  {
   "cell_type": "code",
   "execution_count": 9,
   "metadata": {},
   "outputs": [
    {
     "name": "stdout",
     "output_type": "stream",
     "text": [
      "file created and successfully data written\n"
     ]
    }
   ],
   "source": [
    "def appenddata(filename):\n",
    "    f=open(filename,'a')\n",
    "    f.write(\"new line 1\\n\")\n",
    "    f.write(\"new line 2\\n\")\n",
    "    print(\"file created and successfully data written\")\n",
    "    return\n",
    "appenddata('file2.txt')\n",
    "        "
   ]
  },
  {
   "cell_type": "code",
   "execution_count": 8,
   "metadata": {},
   "outputs": [
    {
     "name": "stdout",
     "output_type": "stream",
     "text": [
      "file created and successfully data written\n"
     ]
    }
   ],
   "source": [
    "def appenddata(filename):\n",
    "    f=open(filename,'a')\n",
    "    for i in range(10):\n",
    "        f.write(\"this is %d line\\n\"%i)\n",
    "    print(\"file created and successfully data written\")\n",
    "    return\n",
    "appenddata('file2.txt')"
   ]
  },
  {
   "cell_type": "code",
   "execution_count": 12,
   "metadata": {},
   "outputs": [
    {
     "name": "stdout",
     "output_type": "stream",
     "text": [
      "this is 0 line\n",
      "this is 1 line\n",
      "this is 2 line\n",
      "this is 3 line\n",
      "this is 4 line\n",
      "this is 5 line\n",
      "this is 6 line\n",
      "this is 7 line\n",
      "this is 8 line\n",
      "this is 9 line\n",
      "new line 1\n",
      "new line 2\n",
      "\n"
     ]
    }
   ],
   "source": [
    "# function to read of the file\n",
    "def readfiledata(filename):\n",
    "    f=open(filename,'r')\n",
    "    if f.mode=='r':\n",
    "        x=f.read()\n",
    "        print(x)\n",
    "    f.close()\n",
    "    return\n",
    "readfiledata('file2.txt')"
   ]
  },
  {
   "cell_type": "code",
   "execution_count": 21,
   "metadata": {},
   "outputs": [
    {
     "name": "stdout",
     "output_type": "stream",
     "text": [
      "enter the filenamedata.txt\n",
      "enter the mode of the filea\n",
      "the data successfully written\n"
     ]
    }
   ],
   "source": [
    "# function to read the file\n",
    "def fileoperations(filename,mode):\n",
    "    with open(filename,mode) as f:\n",
    "        if f.mode=='r':\n",
    "            data=f.read()\n",
    "            print(data)\n",
    "        elif f.mode=='a':\n",
    "            f.write('data to the file')\n",
    "            print('the data successfully written')\n",
    "    f.close()\n",
    "    return\n",
    "filename=input('enter the filename')\n",
    "mode=input('enter the mode of the file')\n",
    "fileoperations(filename,mode)\n",
    "        "
   ]
  },
  {
   "cell_type": "code",
   "execution_count": 22,
   "metadata": {},
   "outputs": [
    {
     "name": "stdout",
     "output_type": "stream",
     "text": [
      "enter the file name:file2.txt\n",
      "enter the word:this\n"
     ]
    },
    {
     "data": {
      "text/plain": [
       "10"
      ]
     },
     "execution_count": 22,
     "metadata": {},
     "output_type": "execute_result"
    }
   ],
   "source": [
    "# data analysis\n",
    "#word count program\n",
    "def wordcount(filename,word):\n",
    "    with open(filename,'r') as f:\n",
    "        if f.mode=='r':\n",
    "            x=f.read()\n",
    "            li=x.split()\n",
    "    cnt=li.count(word)\n",
    "    return cnt\n",
    "filename=input('enter the file name:')\n",
    "word=input('enter the word:')\n",
    "wordcount(filename,word)\n",
    "\n"
   ]
  },
  {
   "cell_type": "code",
   "execution_count": 28,
   "metadata": {},
   "outputs": [
    {
     "name": "stdout",
     "output_type": "stream",
     "text": [
      "enter the filename:file2.txt\n"
     ]
    },
    {
     "data": {
      "text/plain": [
       "172"
      ]
     },
     "execution_count": 28,
     "metadata": {},
     "output_type": "execute_result"
    }
   ],
   "source": [
    "# character count from the given file\n",
    "def wordcount1(filename):\n",
    "    with open(filename,'r') as f:\n",
    "         if f.mode=='r':\n",
    "            x=f.read()\n",
    "            li=list(x)\n",
    "    return len(li)\n",
    "filename=input('enter the filename:')\n",
    "wordcount1(filename)\n",
    "            "
   ]
  },
  {
   "cell_type": "code",
   "execution_count": 29,
   "metadata": {},
   "outputs": [
    {
     "name": "stdout",
     "output_type": "stream",
     "text": [
      "['python progr', 'mming ']\n"
     ]
    }
   ],
   "source": [
    "s1=\"python programming \"\n",
    "print(s1.split('a'))"
   ]
  },
  {
   "cell_type": "code",
   "execution_count": 30,
   "metadata": {},
   "outputs": [
    {
     "name": "stdout",
     "output_type": "stream",
     "text": [
      "enter the filenamefile2.txt\n"
     ]
    },
    {
     "data": {
      "text/plain": [
       "13"
      ]
     },
     "execution_count": 30,
     "metadata": {},
     "output_type": "execute_result"
    }
   ],
   "source": [
    "# function to find the no of list in the input file\n",
    "# input -- filename(file2.txt)\n",
    "#output -- no of lines(12)\n",
    "def countoflines(filename):\n",
    "    with open(filename,'r') as f:\n",
    "         if f.mode=='r':\n",
    "            x=f.read()\n",
    "            li=x.split(\"\\n\")\n",
    "    return len(li)\n",
    "filename=input('enter the filename')\n",
    "countoflines(filename)"
   ]
  },
  {
   "cell_type": "code",
   "execution_count": 37,
   "metadata": {},
   "outputs": [
    {
     "name": "stdout",
     "output_type": "stream",
     "text": [
      "enter the filename:file2.txt\n"
     ]
    },
    {
     "data": {
      "text/plain": [
       "'upper case=0,lower case=114'"
      ]
     },
     "execution_count": 37,
     "metadata": {},
     "output_type": "execute_result"
    }
   ],
   "source": [
    "# function to print the upper and lower character\n",
    "def casecount(filename):\n",
    "    cntupper=0\n",
    "    cntlower=0\n",
    "    with open(filename,'r') as f:\n",
    "        if f.mode=='r':\n",
    "            x=f.read()\n",
    "            li=list(x)\n",
    "    for i in li:\n",
    "        if i.isupper():\n",
    "            cntupper+=1\n",
    "        elif i.islower():\n",
    "             cntlower+=1\n",
    "    output='upper case={0},lower case={1}'.format(cntupper,cntlower)\n",
    "    return output\n",
    "filename=input('enter the filename:')\n",
    "casecount(filename)"
   ]
  },
  {
   "cell_type": "markdown",
   "metadata": {},
   "source": [
    "### math,random,os\n",
    "- os package it contains the certains which works with os"
   ]
  },
  {
   "cell_type": "markdown",
   "metadata": {},
   "source": [
    "- older version python --os.listdir()\n",
    "- new version python--os.scandir() and pathlib.path()"
   ]
  },
  {
   "cell_type": "code",
   "execution_count": 51,
   "metadata": {},
   "outputs": [
    {
     "name": "stdout",
     "output_type": "stream",
     "text": [
      "acessing a element using key:\n",
      "python\n"
     ]
    }
   ],
   "source": [
    "dict={1:'programming','name':'for',3:'python'}\n",
    "print(\"acessing a element using key:\")\n",
    "print(dict[3])"
   ]
  },
  {
   "cell_type": "code",
   "execution_count": null,
   "metadata": {},
   "outputs": [],
   "source": [
    "def countcharacter(filename):\n",
    "    f=open(filename,'r')\n",
    "    if f.mode==\"r\":\n",
    "        x=f.read()\n",
    "        "
   ]
  }
 ],
 "metadata": {
  "kernelspec": {
   "display_name": "Python 3",
   "language": "python",
   "name": "python3"
  },
  "language_info": {
   "codemirror_mode": {
    "name": "ipython",
    "version": 3
   },
   "file_extension": ".py",
   "mimetype": "text/x-python",
   "name": "python",
   "nbconvert_exporter": "python",
   "pygments_lexer": "ipython3",
   "version": "3.7.3"
  }
 },
 "nbformat": 4,
 "nbformat_minor": 2
}
